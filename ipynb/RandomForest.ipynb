{
 "cells": [
  {
   "cell_type": "code",
   "execution_count": 1,
   "metadata": {
    "executionInfo": {
     "elapsed": 696,
     "status": "ok",
     "timestamp": 1618667005710,
     "user": {
      "displayName": "Guillaume Verpoest",
      "photoUrl": "",
      "userId": "17339242276884181047"
     },
     "user_tz": -120
    },
    "id": "y-wdpQjD0x58"
   },
   "outputs": [],
   "source": [
    "import pandas as pd \n",
    "import numpy as np\n",
    "from sklearn.ensemble import RandomForestClassifier\n",
    "from sklearn.model_selection import train_test_split\n",
    "from sklearn import metrics\n",
    "from sklearn.model_selection import StratifiedKFold\n",
    "from sklearn.metrics import accuracy_score\n",
    "import pickle"
   ]
  },
  {
   "cell_type": "markdown",
   "metadata": {},
   "source": [
    "# Google Colab"
   ]
  },
  {
   "cell_type": "markdown",
   "metadata": {
    "colab": {
     "base_uri": "https://localhost:8080/"
    },
    "executionInfo": {
     "elapsed": 705,
     "status": "ok",
     "timestamp": 1618667005709,
     "user": {
      "displayName": "Guillaume Verpoest",
      "photoUrl": "",
      "userId": "17339242276884181047"
     },
     "user_tz": -120
    },
    "id": "aCAL3oUAz4bD",
    "outputId": "8afaf8b7-3c3f-44df-b5ca-ab5d2e67f8a9"
   },
   "source": [
    "from google.colab import drive\n",
    "drive.mount('/content/drive')\n",
    "df = pd.read_csv('/content/drive/MyDrive/Reconnaissance de la langue des signes/data/df.csv')"
   ]
  },
  {
   "cell_type": "markdown",
   "metadata": {},
   "source": [
    "# local"
   ]
  },
  {
   "cell_type": "code",
   "execution_count": 2,
   "metadata": {},
   "outputs": [],
   "source": [
    "df = pd.read_csv(\"../df.csv\")"
   ]
  },
  {
   "cell_type": "markdown",
   "metadata": {
    "id": "cjUIOZuNAy6q"
   },
   "source": [
    "# Import Data"
   ]
  },
  {
   "cell_type": "code",
   "execution_count": 3,
   "metadata": {
    "colab": {
     "base_uri": "https://localhost:8080/",
     "height": 224
    },
    "executionInfo": {
     "elapsed": 1005,
     "status": "ok",
     "timestamp": 1618667006025,
     "user": {
      "displayName": "Guillaume Verpoest",
      "photoUrl": "",
      "userId": "17339242276884181047"
     },
     "user_tz": -120
    },
    "id": "q0uyrjBD0hsQ",
    "outputId": "7c29a735-0134-4661-f25b-fb81562c6341"
   },
   "outputs": [
    {
     "data": {
      "text/html": [
       "<div>\n",
       "<style scoped>\n",
       "    .dataframe tbody tr th:only-of-type {\n",
       "        vertical-align: middle;\n",
       "    }\n",
       "\n",
       "    .dataframe tbody tr th {\n",
       "        vertical-align: top;\n",
       "    }\n",
       "\n",
       "    .dataframe thead th {\n",
       "        text-align: right;\n",
       "    }\n",
       "</style>\n",
       "<table border=\"1\" class=\"dataframe\">\n",
       "  <thead>\n",
       "    <tr style=\"text-align: right;\">\n",
       "      <th></th>\n",
       "      <th>categories</th>\n",
       "      <th>0x</th>\n",
       "      <th>0y</th>\n",
       "      <th>0z</th>\n",
       "      <th>1x</th>\n",
       "      <th>1y</th>\n",
       "      <th>1z</th>\n",
       "      <th>2x</th>\n",
       "      <th>2y</th>\n",
       "      <th>2z</th>\n",
       "      <th>...</th>\n",
       "      <th>17z</th>\n",
       "      <th>18x</th>\n",
       "      <th>18y</th>\n",
       "      <th>18z</th>\n",
       "      <th>19x</th>\n",
       "      <th>19y</th>\n",
       "      <th>19z</th>\n",
       "      <th>20x</th>\n",
       "      <th>20y</th>\n",
       "      <th>20z</th>\n",
       "    </tr>\n",
       "  </thead>\n",
       "  <tbody>\n",
       "    <tr>\n",
       "      <th>0</th>\n",
       "      <td>A</td>\n",
       "      <td>0.515212</td>\n",
       "      <td>0.508927</td>\n",
       "      <td>-0.000008</td>\n",
       "      <td>0.469686</td>\n",
       "      <td>0.398208</td>\n",
       "      <td>-0.068338</td>\n",
       "      <td>0.500951</td>\n",
       "      <td>0.247828</td>\n",
       "      <td>-0.114707</td>\n",
       "      <td>...</td>\n",
       "      <td>-0.121572</td>\n",
       "      <td>0.727716</td>\n",
       "      <td>0.398104</td>\n",
       "      <td>-0.205803</td>\n",
       "      <td>0.653026</td>\n",
       "      <td>0.419071</td>\n",
       "      <td>-0.192529</td>\n",
       "      <td>0.628555</td>\n",
       "      <td>0.434568</td>\n",
       "      <td>-0.142097</td>\n",
       "    </tr>\n",
       "    <tr>\n",
       "      <th>1</th>\n",
       "      <td>A</td>\n",
       "      <td>0.610250</td>\n",
       "      <td>0.439939</td>\n",
       "      <td>-0.000112</td>\n",
       "      <td>0.632438</td>\n",
       "      <td>0.312251</td>\n",
       "      <td>-0.016683</td>\n",
       "      <td>0.606183</td>\n",
       "      <td>0.202839</td>\n",
       "      <td>-0.028780</td>\n",
       "      <td>...</td>\n",
       "      <td>-0.049098</td>\n",
       "      <td>0.435827</td>\n",
       "      <td>0.317066</td>\n",
       "      <td>-0.081028</td>\n",
       "      <td>0.486910</td>\n",
       "      <td>0.334803</td>\n",
       "      <td>-0.067055</td>\n",
       "      <td>0.492805</td>\n",
       "      <td>0.354976</td>\n",
       "      <td>-0.050882</td>\n",
       "    </tr>\n",
       "    <tr>\n",
       "      <th>2</th>\n",
       "      <td>A</td>\n",
       "      <td>0.409280</td>\n",
       "      <td>0.805844</td>\n",
       "      <td>-0.000124</td>\n",
       "      <td>0.374106</td>\n",
       "      <td>0.671784</td>\n",
       "      <td>-0.104911</td>\n",
       "      <td>0.450195</td>\n",
       "      <td>0.510513</td>\n",
       "      <td>-0.158866</td>\n",
       "      <td>...</td>\n",
       "      <td>-0.136539</td>\n",
       "      <td>0.653875</td>\n",
       "      <td>0.773743</td>\n",
       "      <td>-0.240082</td>\n",
       "      <td>0.575746</td>\n",
       "      <td>0.780751</td>\n",
       "      <td>-0.225474</td>\n",
       "      <td>0.563712</td>\n",
       "      <td>0.772116</td>\n",
       "      <td>-0.173085</td>\n",
       "    </tr>\n",
       "    <tr>\n",
       "      <th>3</th>\n",
       "      <td>A</td>\n",
       "      <td>0.311039</td>\n",
       "      <td>0.702229</td>\n",
       "      <td>-0.000154</td>\n",
       "      <td>0.363909</td>\n",
       "      <td>0.642137</td>\n",
       "      <td>-0.073708</td>\n",
       "      <td>0.393156</td>\n",
       "      <td>0.532608</td>\n",
       "      <td>-0.147692</td>\n",
       "      <td>...</td>\n",
       "      <td>-0.262365</td>\n",
       "      <td>0.322551</td>\n",
       "      <td>0.422213</td>\n",
       "      <td>-0.351653</td>\n",
       "      <td>0.355188</td>\n",
       "      <td>0.361125</td>\n",
       "      <td>-0.418359</td>\n",
       "      <td>0.389481</td>\n",
       "      <td>0.295596</td>\n",
       "      <td>-0.473890</td>\n",
       "    </tr>\n",
       "    <tr>\n",
       "      <th>4</th>\n",
       "      <td>A</td>\n",
       "      <td>0.435521</td>\n",
       "      <td>0.765542</td>\n",
       "      <td>-0.000078</td>\n",
       "      <td>0.448228</td>\n",
       "      <td>0.664170</td>\n",
       "      <td>-0.026558</td>\n",
       "      <td>0.421785</td>\n",
       "      <td>0.570787</td>\n",
       "      <td>-0.048396</td>\n",
       "      <td>...</td>\n",
       "      <td>-0.040358</td>\n",
       "      <td>0.266117</td>\n",
       "      <td>0.697863</td>\n",
       "      <td>-0.075515</td>\n",
       "      <td>0.313033</td>\n",
       "      <td>0.709121</td>\n",
       "      <td>-0.064119</td>\n",
       "      <td>0.325558</td>\n",
       "      <td>0.719900</td>\n",
       "      <td>-0.044384</td>\n",
       "    </tr>\n",
       "  </tbody>\n",
       "</table>\n",
       "<p>5 rows × 64 columns</p>\n",
       "</div>"
      ],
      "text/plain": [
       "  categories        0x        0y        0z        1x        1y        1z  \\\n",
       "0          A  0.515212  0.508927 -0.000008  0.469686  0.398208 -0.068338   \n",
       "1          A  0.610250  0.439939 -0.000112  0.632438  0.312251 -0.016683   \n",
       "2          A  0.409280  0.805844 -0.000124  0.374106  0.671784 -0.104911   \n",
       "3          A  0.311039  0.702229 -0.000154  0.363909  0.642137 -0.073708   \n",
       "4          A  0.435521  0.765542 -0.000078  0.448228  0.664170 -0.026558   \n",
       "\n",
       "         2x        2y        2z  ...       17z       18x       18y       18z  \\\n",
       "0  0.500951  0.247828 -0.114707  ... -0.121572  0.727716  0.398104 -0.205803   \n",
       "1  0.606183  0.202839 -0.028780  ... -0.049098  0.435827  0.317066 -0.081028   \n",
       "2  0.450195  0.510513 -0.158866  ... -0.136539  0.653875  0.773743 -0.240082   \n",
       "3  0.393156  0.532608 -0.147692  ... -0.262365  0.322551  0.422213 -0.351653   \n",
       "4  0.421785  0.570787 -0.048396  ... -0.040358  0.266117  0.697863 -0.075515   \n",
       "\n",
       "        19x       19y       19z       20x       20y       20z  \n",
       "0  0.653026  0.419071 -0.192529  0.628555  0.434568 -0.142097  \n",
       "1  0.486910  0.334803 -0.067055  0.492805  0.354976 -0.050882  \n",
       "2  0.575746  0.780751 -0.225474  0.563712  0.772116 -0.173085  \n",
       "3  0.355188  0.361125 -0.418359  0.389481  0.295596 -0.473890  \n",
       "4  0.313033  0.709121 -0.064119  0.325558  0.719900 -0.044384  \n",
       "\n",
       "[5 rows x 64 columns]"
      ]
     },
     "execution_count": 3,
     "metadata": {},
     "output_type": "execute_result"
    }
   ],
   "source": [
    "df.head()"
   ]
  },
  {
   "cell_type": "markdown",
   "metadata": {
    "id": "qvgnvCkEA_J8"
   },
   "source": [
    "# Clean data"
   ]
  },
  {
   "cell_type": "code",
   "execution_count": 4,
   "metadata": {
    "executionInfo": {
     "elapsed": 997,
     "status": "ok",
     "timestamp": 1618667006026,
     "user": {
      "displayName": "Guillaume Verpoest",
      "photoUrl": "",
      "userId": "17339242276884181047"
     },
     "user_tz": -120
    },
    "id": "mQrOz43nAVXK"
   },
   "outputs": [],
   "source": [
    "df = df.dropna()"
   ]
  },
  {
   "cell_type": "code",
   "execution_count": 5,
   "metadata": {
    "colab": {
     "base_uri": "https://localhost:8080/"
    },
    "executionInfo": {
     "elapsed": 994,
     "status": "ok",
     "timestamp": 1618667006027,
     "user": {
      "displayName": "Guillaume Verpoest",
      "photoUrl": "",
      "userId": "17339242276884181047"
     },
     "user_tz": -120
    },
    "id": "LehlEm5kAfjs",
    "outputId": "20dcb7f8-707d-4979-d473-e6c9d43aab28"
   },
   "outputs": [
    {
     "data": {
      "text/plain": [
       "categories    0\n",
       "0x            0\n",
       "0y            0\n",
       "0z            0\n",
       "1x            0\n",
       "             ..\n",
       "19y           0\n",
       "19z           0\n",
       "20x           0\n",
       "20y           0\n",
       "20z           0\n",
       "Length: 64, dtype: int64"
      ]
     },
     "execution_count": 5,
     "metadata": {},
     "output_type": "execute_result"
    }
   ],
   "source": [
    "df.isnull().sum()"
   ]
  },
  {
   "cell_type": "markdown",
   "metadata": {
    "id": "vBY_k9g2BZno"
   },
   "source": [
    "# Split"
   ]
  },
  {
   "cell_type": "code",
   "execution_count": 6,
   "metadata": {
    "executionInfo": {
     "elapsed": 986,
     "status": "ok",
     "timestamp": 1618667006027,
     "user": {
      "displayName": "Guillaume Verpoest",
      "photoUrl": "",
      "userId": "17339242276884181047"
     },
     "user_tz": -120
    },
    "id": "XtD2ZSnD1F4F"
   },
   "outputs": [],
   "source": [
    "X = df.drop(columns=\"categories\")\n",
    "y = df[\"categories\"]"
   ]
  },
  {
   "cell_type": "code",
   "execution_count": 7,
   "metadata": {
    "colab": {
     "base_uri": "https://localhost:8080/"
    },
    "executionInfo": {
     "elapsed": 983,
     "status": "ok",
     "timestamp": 1618667006028,
     "user": {
      "displayName": "Guillaume Verpoest",
      "photoUrl": "",
      "userId": "17339242276884181047"
     },
     "user_tz": -120
    },
    "id": "z8tLII2X1QD2",
    "outputId": "fd13abe2-b647-4007-976d-f18946e4a889"
   },
   "outputs": [
    {
     "data": {
      "text/plain": [
       "((1196, 63), (590, 63), (1196,), (590,))"
      ]
     },
     "execution_count": 7,
     "metadata": {},
     "output_type": "execute_result"
    }
   ],
   "source": [
    "X_train, X_test, y_train, y_test = train_test_split(X, y, test_size=0.33, random_state=42)\n",
    "X_train.shape, X_test.shape, y_train.shape, y_test.shape"
   ]
  },
  {
   "cell_type": "markdown",
   "metadata": {
    "id": "x-1uE3VKBHod"
   },
   "source": [
    "# RandomForestClassifier"
   ]
  },
  {
   "cell_type": "code",
   "execution_count": 8,
   "metadata": {
    "colab": {
     "base_uri": "https://localhost:8080/"
    },
    "executionInfo": {
     "elapsed": 1392,
     "status": "ok",
     "timestamp": 1618667006446,
     "user": {
      "displayName": "Guillaume Verpoest",
      "photoUrl": "",
      "userId": "17339242276884181047"
     },
     "user_tz": -120
    },
    "id": "Zei_xDrg05gG",
    "outputId": "f3ecf7be-2ebf-48ee-d509-163c80213a35"
   },
   "outputs": [
    {
     "data": {
      "text/plain": [
       "RandomForestClassifier()"
      ]
     },
     "execution_count": 8,
     "metadata": {},
     "output_type": "execute_result"
    }
   ],
   "source": [
    "clf = RandomForestClassifier()\n",
    "clf.fit(X_train, y_train)"
   ]
  },
  {
   "cell_type": "code",
   "execution_count": 9,
   "metadata": {
    "colab": {
     "base_uri": "https://localhost:8080/"
    },
    "executionInfo": {
     "elapsed": 1384,
     "status": "ok",
     "timestamp": 1618667006447,
     "user": {
      "displayName": "Guillaume Verpoest",
      "photoUrl": "",
      "userId": "17339242276884181047"
     },
     "user_tz": -120
    },
    "id": "0-710sh0CXNS",
    "outputId": "076e2d8b-83bc-404a-ce0f-f0a0feeed9bc"
   },
   "outputs": [
    {
     "data": {
      "text/plain": [
       "2"
      ]
     },
     "execution_count": 9,
     "metadata": {},
     "output_type": "execute_result"
    }
   ],
   "source": [
    "skf = StratifiedKFold(n_splits=2)\n",
    "skf.get_n_splits(X, y)"
   ]
  },
  {
   "cell_type": "code",
   "execution_count": 10,
   "metadata": {
    "colab": {
     "base_uri": "https://localhost:8080/"
    },
    "executionInfo": {
     "elapsed": 1377,
     "status": "ok",
     "timestamp": 1618667006448,
     "user": {
      "displayName": "Guillaume Verpoest",
      "photoUrl": "",
      "userId": "17339242276884181047"
     },
     "user_tz": -120
    },
    "id": "49SjQ0dEC8Lj",
    "outputId": "eb11037d-1282-411b-e449-fd0a264899e8"
   },
   "outputs": [
    {
     "data": {
      "text/plain": [
       "((893, 63), (893, 63), (893,), (893,))"
      ]
     },
     "execution_count": 10,
     "metadata": {},
     "output_type": "execute_result"
    }
   ],
   "source": [
    "for train_index, test_index in skf.split(X, y):\n",
    "  #print(\"TRAIN:\", train_index, \"TEST:\", test_index)\n",
    "  X_train_skf, X_test_skf = X.iloc[train_index], X.iloc[test_index]\n",
    "  y_train_skf, y_test_skf = y.iloc[train_index], y.iloc[test_index]\n",
    "X_train_skf.shape, X_test_skf.shape, y_train_skf.shape, y_test_skf.shape"
   ]
  },
  {
   "cell_type": "code",
   "execution_count": 11,
   "metadata": {
    "colab": {
     "base_uri": "https://localhost:8080/"
    },
    "executionInfo": {
     "elapsed": 2676,
     "status": "ok",
     "timestamp": 1618667007757,
     "user": {
      "displayName": "Guillaume Verpoest",
      "photoUrl": "",
      "userId": "17339242276884181047"
     },
     "user_tz": -120
    },
    "id": "HLeZhewF1V7q",
    "outputId": "2825b19f-067a-44aa-b131-955343734bfa"
   },
   "outputs": [
    {
     "data": {
      "text/plain": [
       "RandomForestClassifier()"
      ]
     },
     "execution_count": 11,
     "metadata": {},
     "output_type": "execute_result"
    }
   ],
   "source": [
    "model = RandomForestClassifier()\n",
    "model.fit(X_train, y_train)\n",
    "\n",
    "model_2 = RandomForestClassifier()\n",
    "model_2.fit(X_train_skf, y_train_skf)"
   ]
  },
  {
   "cell_type": "code",
   "execution_count": 12,
   "metadata": {
    "executionInfo": {
     "elapsed": 2668,
     "status": "ok",
     "timestamp": 1618667007757,
     "user": {
      "displayName": "Guillaume Verpoest",
      "photoUrl": "",
      "userId": "17339242276884181047"
     },
     "user_tz": -120
    },
    "id": "wvbzuh6T1uZC"
   },
   "outputs": [],
   "source": [
    "predictions = model.predict(X_test)\n",
    "predictions_skf = model.predict(X_test_skf)"
   ]
  },
  {
   "cell_type": "code",
   "execution_count": 13,
   "metadata": {
    "colab": {
     "base_uri": "https://localhost:8080/"
    },
    "executionInfo": {
     "elapsed": 2664,
     "status": "ok",
     "timestamp": 1618667007758,
     "user": {
      "displayName": "Guillaume Verpoest",
      "photoUrl": "",
      "userId": "17339242276884181047"
     },
     "user_tz": -120
    },
    "id": "LXG8IwZXEaZW",
    "outputId": "9f701a62-03ad-4bf1-8d0f-b7bb04f22101"
   },
   "outputs": [
    {
     "name": "stdout",
     "output_type": "stream",
     "text": [
      "0.652542372881356\n",
      "0.9036954087346024\n"
     ]
    }
   ],
   "source": [
    "print(accuracy_score(y_test, predictions))\n",
    "print(accuracy_score(y_test_skf, predictions_skf))"
   ]
  },
  {
   "cell_type": "code",
   "execution_count": 14,
   "metadata": {
    "executionInfo": {
     "elapsed": 2663,
     "status": "ok",
     "timestamp": 1618667007759,
     "user": {
      "displayName": "Guillaume Verpoest",
      "photoUrl": "",
      "userId": "17339242276884181047"
     },
     "user_tz": -120
    },
    "id": "CD_0QZknEhHf"
   },
   "outputs": [],
   "source": [
    "pickle.dump(model_2, open(\"../model_coord_finger.sav\", 'wb'))"
   ]
  },
  {
   "cell_type": "code",
   "execution_count": 15,
   "metadata": {},
   "outputs": [
    {
     "data": {
      "text/html": [
       "<div>\n",
       "<style scoped>\n",
       "    .dataframe tbody tr th:only-of-type {\n",
       "        vertical-align: middle;\n",
       "    }\n",
       "\n",
       "    .dataframe tbody tr th {\n",
       "        vertical-align: top;\n",
       "    }\n",
       "\n",
       "    .dataframe thead th {\n",
       "        text-align: right;\n",
       "    }\n",
       "</style>\n",
       "<table border=\"1\" class=\"dataframe\">\n",
       "  <thead>\n",
       "    <tr style=\"text-align: right;\">\n",
       "      <th></th>\n",
       "      <th>0x</th>\n",
       "      <th>0y</th>\n",
       "      <th>0z</th>\n",
       "      <th>1x</th>\n",
       "      <th>1y</th>\n",
       "      <th>1z</th>\n",
       "      <th>2x</th>\n",
       "      <th>2y</th>\n",
       "      <th>2z</th>\n",
       "      <th>3x</th>\n",
       "      <th>...</th>\n",
       "      <th>17z</th>\n",
       "      <th>18x</th>\n",
       "      <th>18y</th>\n",
       "      <th>18z</th>\n",
       "      <th>19x</th>\n",
       "      <th>19y</th>\n",
       "      <th>19z</th>\n",
       "      <th>20x</th>\n",
       "      <th>20y</th>\n",
       "      <th>20z</th>\n",
       "    </tr>\n",
       "  </thead>\n",
       "  <tbody>\n",
       "    <tr>\n",
       "      <th>584</th>\n",
       "      <td>0.616877</td>\n",
       "      <td>0.577689</td>\n",
       "      <td>-0.000069</td>\n",
       "      <td>0.595063</td>\n",
       "      <td>0.566243</td>\n",
       "      <td>-0.078534</td>\n",
       "      <td>0.550696</td>\n",
       "      <td>0.567996</td>\n",
       "      <td>-0.097386</td>\n",
       "      <td>0.505760</td>\n",
       "      <td>...</td>\n",
       "      <td>0.049531</td>\n",
       "      <td>0.487389</td>\n",
       "      <td>0.593629</td>\n",
       "      <td>0.007656</td>\n",
       "      <td>0.510466</td>\n",
       "      <td>0.606064</td>\n",
       "      <td>-0.015339</td>\n",
       "      <td>0.530778</td>\n",
       "      <td>0.605994</td>\n",
       "      <td>-0.021012</td>\n",
       "    </tr>\n",
       "    <tr>\n",
       "      <th>1267</th>\n",
       "      <td>0.462750</td>\n",
       "      <td>0.816051</td>\n",
       "      <td>-0.000054</td>\n",
       "      <td>0.597699</td>\n",
       "      <td>0.798218</td>\n",
       "      <td>-0.087816</td>\n",
       "      <td>0.709729</td>\n",
       "      <td>0.741180</td>\n",
       "      <td>-0.157185</td>\n",
       "      <td>0.820307</td>\n",
       "      <td>...</td>\n",
       "      <td>-0.203631</td>\n",
       "      <td>0.317655</td>\n",
       "      <td>0.379359</td>\n",
       "      <td>-0.282273</td>\n",
       "      <td>0.311296</td>\n",
       "      <td>0.283503</td>\n",
       "      <td>-0.345260</td>\n",
       "      <td>0.320541</td>\n",
       "      <td>0.182738</td>\n",
       "      <td>-0.390105</td>\n",
       "    </tr>\n",
       "    <tr>\n",
       "      <th>1477</th>\n",
       "      <td>0.487207</td>\n",
       "      <td>0.407036</td>\n",
       "      <td>-0.000070</td>\n",
       "      <td>0.539149</td>\n",
       "      <td>0.421786</td>\n",
       "      <td>-0.100313</td>\n",
       "      <td>0.574936</td>\n",
       "      <td>0.433573</td>\n",
       "      <td>-0.202177</td>\n",
       "      <td>0.577469</td>\n",
       "      <td>...</td>\n",
       "      <td>-0.280601</td>\n",
       "      <td>0.332426</td>\n",
       "      <td>0.418674</td>\n",
       "      <td>-0.375143</td>\n",
       "      <td>0.349155</td>\n",
       "      <td>0.490466</td>\n",
       "      <td>-0.407156</td>\n",
       "      <td>0.378219</td>\n",
       "      <td>0.537966</td>\n",
       "      <td>-0.411581</td>\n",
       "    </tr>\n",
       "    <tr>\n",
       "      <th>307</th>\n",
       "      <td>0.468783</td>\n",
       "      <td>0.713365</td>\n",
       "      <td>-0.000190</td>\n",
       "      <td>0.467859</td>\n",
       "      <td>0.599385</td>\n",
       "      <td>-0.077792</td>\n",
       "      <td>0.537859</td>\n",
       "      <td>0.521317</td>\n",
       "      <td>-0.118069</td>\n",
       "      <td>0.611386</td>\n",
       "      <td>...</td>\n",
       "      <td>-0.111906</td>\n",
       "      <td>0.637952</td>\n",
       "      <td>0.791899</td>\n",
       "      <td>-0.186354</td>\n",
       "      <td>0.581091</td>\n",
       "      <td>0.755167</td>\n",
       "      <td>-0.180583</td>\n",
       "      <td>0.558716</td>\n",
       "      <td>0.740578</td>\n",
       "      <td>-0.156199</td>\n",
       "    </tr>\n",
       "    <tr>\n",
       "      <th>1896</th>\n",
       "      <td>0.604396</td>\n",
       "      <td>0.514338</td>\n",
       "      <td>-0.000033</td>\n",
       "      <td>0.572248</td>\n",
       "      <td>0.497396</td>\n",
       "      <td>-0.101939</td>\n",
       "      <td>0.518016</td>\n",
       "      <td>0.441002</td>\n",
       "      <td>-0.157549</td>\n",
       "      <td>0.452820</td>\n",
       "      <td>...</td>\n",
       "      <td>0.045337</td>\n",
       "      <td>0.425388</td>\n",
       "      <td>0.305566</td>\n",
       "      <td>0.046381</td>\n",
       "      <td>0.384155</td>\n",
       "      <td>0.316736</td>\n",
       "      <td>0.034400</td>\n",
       "      <td>0.348938</td>\n",
       "      <td>0.329515</td>\n",
       "      <td>0.013099</td>\n",
       "    </tr>\n",
       "    <tr>\n",
       "      <th>...</th>\n",
       "      <td>...</td>\n",
       "      <td>...</td>\n",
       "      <td>...</td>\n",
       "      <td>...</td>\n",
       "      <td>...</td>\n",
       "      <td>...</td>\n",
       "      <td>...</td>\n",
       "      <td>...</td>\n",
       "      <td>...</td>\n",
       "      <td>...</td>\n",
       "      <td>...</td>\n",
       "      <td>...</td>\n",
       "      <td>...</td>\n",
       "      <td>...</td>\n",
       "      <td>...</td>\n",
       "      <td>...</td>\n",
       "      <td>...</td>\n",
       "      <td>...</td>\n",
       "      <td>...</td>\n",
       "      <td>...</td>\n",
       "      <td>...</td>\n",
       "    </tr>\n",
       "    <tr>\n",
       "      <th>303</th>\n",
       "      <td>0.455327</td>\n",
       "      <td>0.640335</td>\n",
       "      <td>-0.000053</td>\n",
       "      <td>0.449087</td>\n",
       "      <td>0.569399</td>\n",
       "      <td>-0.037531</td>\n",
       "      <td>0.486815</td>\n",
       "      <td>0.508740</td>\n",
       "      <td>-0.059313</td>\n",
       "      <td>0.533931</td>\n",
       "      <td>...</td>\n",
       "      <td>-0.060531</td>\n",
       "      <td>0.570962</td>\n",
       "      <td>0.656266</td>\n",
       "      <td>-0.101446</td>\n",
       "      <td>0.535446</td>\n",
       "      <td>0.646375</td>\n",
       "      <td>-0.094380</td>\n",
       "      <td>0.524536</td>\n",
       "      <td>0.650167</td>\n",
       "      <td>-0.078080</td>\n",
       "    </tr>\n",
       "    <tr>\n",
       "      <th>1544</th>\n",
       "      <td>0.657298</td>\n",
       "      <td>0.766826</td>\n",
       "      <td>-0.000086</td>\n",
       "      <td>0.721513</td>\n",
       "      <td>0.725574</td>\n",
       "      <td>0.015391</td>\n",
       "      <td>0.762799</td>\n",
       "      <td>0.672920</td>\n",
       "      <td>0.005349</td>\n",
       "      <td>0.792429</td>\n",
       "      <td>...</td>\n",
       "      <td>-0.071360</td>\n",
       "      <td>0.652356</td>\n",
       "      <td>0.553608</td>\n",
       "      <td>-0.093610</td>\n",
       "      <td>0.694863</td>\n",
       "      <td>0.545798</td>\n",
       "      <td>-0.111220</td>\n",
       "      <td>0.731326</td>\n",
       "      <td>0.555124</td>\n",
       "      <td>-0.128013</td>\n",
       "    </tr>\n",
       "    <tr>\n",
       "      <th>453</th>\n",
       "      <td>0.266775</td>\n",
       "      <td>0.783052</td>\n",
       "      <td>-0.000070</td>\n",
       "      <td>0.306335</td>\n",
       "      <td>0.704793</td>\n",
       "      <td>-0.062459</td>\n",
       "      <td>0.311344</td>\n",
       "      <td>0.598462</td>\n",
       "      <td>-0.082844</td>\n",
       "      <td>0.282072</td>\n",
       "      <td>...</td>\n",
       "      <td>-0.014252</td>\n",
       "      <td>0.155109</td>\n",
       "      <td>0.597828</td>\n",
       "      <td>-0.085025</td>\n",
       "      <td>0.186558</td>\n",
       "      <td>0.637827</td>\n",
       "      <td>-0.105662</td>\n",
       "      <td>0.205067</td>\n",
       "      <td>0.662734</td>\n",
       "      <td>-0.110652</td>\n",
       "    </tr>\n",
       "    <tr>\n",
       "      <th>1475</th>\n",
       "      <td>0.374771</td>\n",
       "      <td>0.614474</td>\n",
       "      <td>-0.000110</td>\n",
       "      <td>0.295250</td>\n",
       "      <td>0.598755</td>\n",
       "      <td>0.000573</td>\n",
       "      <td>0.242921</td>\n",
       "      <td>0.528405</td>\n",
       "      <td>0.004307</td>\n",
       "      <td>0.227767</td>\n",
       "      <td>...</td>\n",
       "      <td>-0.115230</td>\n",
       "      <td>0.322609</td>\n",
       "      <td>0.401401</td>\n",
       "      <td>-0.189793</td>\n",
       "      <td>0.324276</td>\n",
       "      <td>0.462445</td>\n",
       "      <td>-0.196654</td>\n",
       "      <td>0.337250</td>\n",
       "      <td>0.512481</td>\n",
       "      <td>-0.175754</td>\n",
       "    </tr>\n",
       "    <tr>\n",
       "      <th>1654</th>\n",
       "      <td>0.376722</td>\n",
       "      <td>0.792633</td>\n",
       "      <td>-0.000159</td>\n",
       "      <td>0.468340</td>\n",
       "      <td>0.785581</td>\n",
       "      <td>-0.106011</td>\n",
       "      <td>0.533358</td>\n",
       "      <td>0.698161</td>\n",
       "      <td>-0.171054</td>\n",
       "      <td>0.510082</td>\n",
       "      <td>...</td>\n",
       "      <td>-0.067384</td>\n",
       "      <td>0.370932</td>\n",
       "      <td>0.553066</td>\n",
       "      <td>-0.179621</td>\n",
       "      <td>0.371348</td>\n",
       "      <td>0.632439</td>\n",
       "      <td>-0.196439</td>\n",
       "      <td>0.362866</td>\n",
       "      <td>0.646126</td>\n",
       "      <td>-0.168551</td>\n",
       "    </tr>\n",
       "  </tbody>\n",
       "</table>\n",
       "<p>590 rows × 63 columns</p>\n",
       "</div>"
      ],
      "text/plain": [
       "            0x        0y        0z        1x        1y        1z        2x  \\\n",
       "584   0.616877  0.577689 -0.000069  0.595063  0.566243 -0.078534  0.550696   \n",
       "1267  0.462750  0.816051 -0.000054  0.597699  0.798218 -0.087816  0.709729   \n",
       "1477  0.487207  0.407036 -0.000070  0.539149  0.421786 -0.100313  0.574936   \n",
       "307   0.468783  0.713365 -0.000190  0.467859  0.599385 -0.077792  0.537859   \n",
       "1896  0.604396  0.514338 -0.000033  0.572248  0.497396 -0.101939  0.518016   \n",
       "...        ...       ...       ...       ...       ...       ...       ...   \n",
       "303   0.455327  0.640335 -0.000053  0.449087  0.569399 -0.037531  0.486815   \n",
       "1544  0.657298  0.766826 -0.000086  0.721513  0.725574  0.015391  0.762799   \n",
       "453   0.266775  0.783052 -0.000070  0.306335  0.704793 -0.062459  0.311344   \n",
       "1475  0.374771  0.614474 -0.000110  0.295250  0.598755  0.000573  0.242921   \n",
       "1654  0.376722  0.792633 -0.000159  0.468340  0.785581 -0.106011  0.533358   \n",
       "\n",
       "            2y        2z        3x  ...       17z       18x       18y  \\\n",
       "584   0.567996 -0.097386  0.505760  ...  0.049531  0.487389  0.593629   \n",
       "1267  0.741180 -0.157185  0.820307  ... -0.203631  0.317655  0.379359   \n",
       "1477  0.433573 -0.202177  0.577469  ... -0.280601  0.332426  0.418674   \n",
       "307   0.521317 -0.118069  0.611386  ... -0.111906  0.637952  0.791899   \n",
       "1896  0.441002 -0.157549  0.452820  ...  0.045337  0.425388  0.305566   \n",
       "...        ...       ...       ...  ...       ...       ...       ...   \n",
       "303   0.508740 -0.059313  0.533931  ... -0.060531  0.570962  0.656266   \n",
       "1544  0.672920  0.005349  0.792429  ... -0.071360  0.652356  0.553608   \n",
       "453   0.598462 -0.082844  0.282072  ... -0.014252  0.155109  0.597828   \n",
       "1475  0.528405  0.004307  0.227767  ... -0.115230  0.322609  0.401401   \n",
       "1654  0.698161 -0.171054  0.510082  ... -0.067384  0.370932  0.553066   \n",
       "\n",
       "           18z       19x       19y       19z       20x       20y       20z  \n",
       "584   0.007656  0.510466  0.606064 -0.015339  0.530778  0.605994 -0.021012  \n",
       "1267 -0.282273  0.311296  0.283503 -0.345260  0.320541  0.182738 -0.390105  \n",
       "1477 -0.375143  0.349155  0.490466 -0.407156  0.378219  0.537966 -0.411581  \n",
       "307  -0.186354  0.581091  0.755167 -0.180583  0.558716  0.740578 -0.156199  \n",
       "1896  0.046381  0.384155  0.316736  0.034400  0.348938  0.329515  0.013099  \n",
       "...        ...       ...       ...       ...       ...       ...       ...  \n",
       "303  -0.101446  0.535446  0.646375 -0.094380  0.524536  0.650167 -0.078080  \n",
       "1544 -0.093610  0.694863  0.545798 -0.111220  0.731326  0.555124 -0.128013  \n",
       "453  -0.085025  0.186558  0.637827 -0.105662  0.205067  0.662734 -0.110652  \n",
       "1475 -0.189793  0.324276  0.462445 -0.196654  0.337250  0.512481 -0.175754  \n",
       "1654 -0.179621  0.371348  0.632439 -0.196439  0.362866  0.646126 -0.168551  \n",
       "\n",
       "[590 rows x 63 columns]"
      ]
     },
     "execution_count": 15,
     "metadata": {},
     "output_type": "execute_result"
    }
   ],
   "source": [
    "X_test"
   ]
  },
  {
   "cell_type": "code",
   "execution_count": 16,
   "metadata": {},
   "outputs": [
    {
     "data": {
      "text/plain": [
       "array(['N', 'A'], dtype=object)"
      ]
     },
     "execution_count": 16,
     "metadata": {},
     "output_type": "execute_result"
    }
   ],
   "source": [
    "model_2.predict(X_test.head(2))"
   ]
  },
  {
   "cell_type": "code",
   "execution_count": 17,
   "metadata": {},
   "outputs": [],
   "source": [
    "with open('model_coord_finger.sav', 'rb') as model:\n",
    "    model = pickle.load(model)"
   ]
  },
  {
   "cell_type": "code",
   "execution_count": 18,
   "metadata": {},
   "outputs": [
    {
     "data": {
      "text/plain": [
       "array(['C'], dtype=object)"
      ]
     },
     "execution_count": 18,
     "metadata": {},
     "output_type": "execute_result"
    }
   ],
   "source": [
    "model.predict(X_test.head(1))"
   ]
  },
  {
   "cell_type": "code",
   "execution_count": 19,
   "metadata": {},
   "outputs": [
    {
     "data": {
      "text/plain": [
       "(1, 63)"
      ]
     },
     "execution_count": 19,
     "metadata": {},
     "output_type": "execute_result"
    }
   ],
   "source": [
    "X_test.head(1).shape"
   ]
  },
  {
   "cell_type": "code",
   "execution_count": 20,
   "metadata": {},
   "outputs": [
    {
     "data": {
      "text/plain": [
       "pandas.core.frame.DataFrame"
      ]
     },
     "execution_count": 20,
     "metadata": {},
     "output_type": "execute_result"
    }
   ],
   "source": [
    "type(X_test.head(1))"
   ]
  },
  {
   "cell_type": "code",
   "execution_count": 21,
   "metadata": {},
   "outputs": [],
   "source": [
    "l = np.array(X_test.head(1))"
   ]
  },
  {
   "cell_type": "code",
   "execution_count": 22,
   "metadata": {},
   "outputs": [
    {
     "data": {
      "text/plain": [
       "(1, 63)"
      ]
     },
     "execution_count": 22,
     "metadata": {},
     "output_type": "execute_result"
    }
   ],
   "source": [
    "l.shape"
   ]
  },
  {
   "cell_type": "code",
   "execution_count": 23,
   "metadata": {},
   "outputs": [
    {
     "data": {
      "text/plain": [
       "array(['N'], dtype=object)"
      ]
     },
     "execution_count": 23,
     "metadata": {},
     "output_type": "execute_result"
    }
   ],
   "source": [
    "model_2.predict(l)"
   ]
  },
  {
   "cell_type": "code",
   "execution_count": 30,
   "metadata": {},
   "outputs": [
    {
     "data": {
      "text/plain": [
       "array(['N'], dtype=object)"
      ]
     },
     "execution_count": 30,
     "metadata": {},
     "output_type": "execute_result"
    }
   ],
   "source": [
    "l = np.array(X_test.head(1))\n",
    "model_2.predict(l)"
   ]
  },
  {
   "cell_type": "code",
   "execution_count": 25,
   "metadata": {},
   "outputs": [],
   "source": [
    "l = np.reshape(l,(-1, 1))"
   ]
  },
  {
   "cell_type": "code",
   "execution_count": 31,
   "metadata": {},
   "outputs": [
    {
     "data": {
      "text/plain": [
       "array([[ 6.16876602e-01,  5.77688932e-01, -6.89588269e-05,\n",
       "         5.95063329e-01,  5.66243172e-01, -7.85338730e-02,\n",
       "         5.50695956e-01,  5.67995787e-01, -9.73856002e-02,\n",
       "         5.05760014e-01,  5.91737151e-01, -1.01866856e-01,\n",
       "         4.74215865e-01,  6.09705865e-01, -9.85457227e-02,\n",
       "         4.96855617e-01,  4.81746048e-01, -3.49774584e-02,\n",
       "         4.32973564e-01,  4.79136407e-01, -5.35270423e-02,\n",
       "         4.13886786e-01,  5.25075316e-01, -7.50366300e-02,\n",
       "         4.14940596e-01,  5.66150188e-01, -8.58389884e-02,\n",
       "         4.93178993e-01,  5.10768831e-01,  1.19834498e-03,\n",
       "         4.38615650e-01,  5.31753302e-01, -2.83788256e-02,\n",
       "         4.48251069e-01,  5.71949840e-01, -5.64691201e-02,\n",
       "         4.67213482e-01,  5.89865327e-01, -6.25160411e-02,\n",
       "         4.97576982e-01,  5.41022599e-01,  2.72670332e-02,\n",
       "         4.72355932e-01,  5.77736080e-01, -1.02159288e-02,\n",
       "         5.02915561e-01,  6.02986932e-01, -3.62470374e-02,\n",
       "         5.28470159e-01,  6.05739713e-01, -4.34843116e-02,\n",
       "         5.03554642e-01,  5.64867854e-01,  4.95305844e-02,\n",
       "         4.87388819e-01,  5.93628585e-01,  7.65579799e-03,\n",
       "         5.10466278e-01,  6.06064200e-01, -1.53385634e-02,\n",
       "         5.30778050e-01,  6.05993509e-01, -2.10124720e-02]])"
      ]
     },
     "execution_count": 31,
     "metadata": {},
     "output_type": "execute_result"
    }
   ],
   "source": [
    "l"
   ]
  },
  {
   "cell_type": "code",
   "execution_count": null,
   "metadata": {},
   "outputs": [],
   "source": []
  }
 ],
 "metadata": {
  "colab": {
   "authorship_tag": "ABX9TyOyE1o1LD/n94pnLDL0yg4O",
   "collapsed_sections": [],
   "name": "RandomForest.ipynb",
   "provenance": []
  },
  "kernelspec": {
   "display_name": "Python 3",
   "language": "python",
   "name": "python3"
  },
  "language_info": {
   "codemirror_mode": {
    "name": "ipython",
    "version": 3
   },
   "file_extension": ".py",
   "mimetype": "text/x-python",
   "name": "python",
   "nbconvert_exporter": "python",
   "pygments_lexer": "ipython3",
   "version": "3.8.5"
  }
 },
 "nbformat": 4,
 "nbformat_minor": 1
}
